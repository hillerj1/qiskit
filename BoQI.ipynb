{
 "cells": [
  {
   "cell_type": "markdown",
   "metadata": {},
   "source": [
    "SINGLE SYSTEM:"
   ]
  },
  {
   "cell_type": "markdown",
   "metadata": {},
   "source": [
    "QISKIT IMPLEMENTATIONS:"
   ]
  },
  {
   "cell_type": "code",
   "execution_count": 2,
   "metadata": {},
   "outputs": [
    {
     "name": "stdout",
     "output_type": "stream",
     "text": [
      "1.3.2\n"
     ]
    }
   ],
   "source": [
    "from qiskit import  __version__\n",
    "print(__version__)"
   ]
  },
  {
   "cell_type": "code",
   "execution_count": 3,
   "metadata": {},
   "outputs": [
    {
     "name": "stdout",
     "output_type": "stream",
     "text": [
      "[[0.5]\n",
      " [0.5]]\n"
     ]
    }
   ],
   "source": [
    "# vectors and matricies\n",
    "import numpy as np\n",
    "\n",
    "ket0 = np.array([[1],[0]])\n",
    "ket1 = np.array([[0],[1]])\n",
    "\n",
    "print(ket0 / 2 + ket1 / 2)"
   ]
  },
  {
   "cell_type": "code",
   "execution_count": 4,
   "metadata": {},
   "outputs": [
    {
     "name": "stdout",
     "output_type": "stream",
     "text": [
      "[[1.  0.5]\n",
      " [0.  0.5]]\n"
     ]
    }
   ],
   "source": [
    "M1 = np.array([[1, 1], [0, 0]])\n",
    "M2 = np.array([[1, 0], [0, 1]])\n",
    "M = M1 / 2 + M2 / 2\n",
    "print(M)"
   ]
  },
  {
   "cell_type": "code",
   "execution_count": 5,
   "metadata": {},
   "outputs": [
    {
     "name": "stdout",
     "output_type": "stream",
     "text": [
      "[[1]\n",
      " [0]]\n",
      "[[1 1]\n",
      " [0 0]]\n",
      "[[1.   0.75]\n",
      " [0.   0.25]]\n"
     ]
    }
   ],
   "source": [
    "print(np.matmul(M1, ket1))\n",
    "print(np.matmul(M1, M2))\n",
    "print(np.matmul(M, M))"
   ]
  },
  {
   "cell_type": "code",
   "execution_count": 6,
   "metadata": {},
   "outputs": [
    {
     "data": {
      "text/latex": [
       "$$\n",
       "\n",
       "\\begin{bmatrix}\n",
       "1  \\\\\n",
       " 0  \\\\\n",
       " \\end{bmatrix}\n",
       "$$"
      ],
      "text/plain": [
       "<IPython.core.display.Latex object>"
      ]
     },
     "metadata": {},
     "output_type": "display_data"
    },
    {
     "data": {
      "text/latex": [
       "$$\n",
       "\n",
       "\\begin{bmatrix}\n",
       "1 & 1  \\\\\n",
       " 0 & 0  \\\\\n",
       " \\end{bmatrix}\n",
       "$$"
      ],
      "text/plain": [
       "<IPython.core.display.Latex object>"
      ]
     },
     "metadata": {},
     "output_type": "display_data"
    },
    {
     "data": {
      "text/latex": [
       "$$\n",
       "\n",
       "\\begin{bmatrix}\n",
       "1 & \\frac{3}{4}  \\\\\n",
       " 0 & \\frac{1}{4}  \\\\\n",
       " \\end{bmatrix}\n",
       "$$"
      ],
      "text/plain": [
       "<IPython.core.display.Latex object>"
      ]
     },
     "metadata": {},
     "output_type": "display_data"
    }
   ],
   "source": [
    "from qiskit.visualization import array_to_latex\n",
    "\n",
    "display(array_to_latex(np.matmul(M1, ket1)))\n",
    "display(array_to_latex(np.matmul(M1, M2)))\n",
    "display(array_to_latex(np.matmul(M, M)))"
   ]
  },
  {
   "cell_type": "code",
   "execution_count": 7,
   "metadata": {},
   "outputs": [],
   "source": [
    "# state vectors, measurments, operations\n",
    "from qiskit.quantum_info import Statevector\n",
    "from numpy import sqrt\n",
    "\n",
    "u = Statevector([1/sqrt(2), 1/sqrt(2)])\n",
    "v = Statevector([(1+2.0j)/3, -2/3])\n",
    "w = Statevector([1/3, 2/3])"
   ]
  },
  {
   "cell_type": "code",
   "execution_count": 8,
   "metadata": {},
   "outputs": [
    {
     "data": {
      "text/plain": [
       "[0.70710678+0.j,0.70710678+0.j]"
      ]
     },
     "metadata": {},
     "output_type": "display_data"
    },
    {
     "data": {
      "text/latex": [
       "$$\\frac{\\sqrt{2}}{2} |0\\rangle+\\frac{\\sqrt{2}}{2} |1\\rangle$$"
      ],
      "text/plain": [
       "<IPython.core.display.Latex object>"
      ]
     },
     "metadata": {},
     "output_type": "display_data"
    },
    {
     "name": "stdout",
     "output_type": "stream",
     "text": [
      "\\frac{\\sqrt{2}}{2} |0\\rangle+\\frac{\\sqrt{2}}{2} |1\\rangle\n"
     ]
    }
   ],
   "source": [
    "display(u.draw('text'))\n",
    "display(u.draw('latex'))\n",
    "print(u.draw('latex_source'))"
   ]
  },
  {
   "cell_type": "code",
   "execution_count": 9,
   "metadata": {},
   "outputs": [
    {
     "data": {
      "text/plain": [
       "True"
      ]
     },
     "metadata": {},
     "output_type": "display_data"
    },
    {
     "data": {
      "text/plain": [
       "False"
      ]
     },
     "metadata": {},
     "output_type": "display_data"
    }
   ],
   "source": [
    "display(u.is_valid())\n",
    "display(w.is_valid())"
   ]
  },
  {
   "cell_type": "code",
   "execution_count": 13,
   "metadata": {},
   "outputs": [
    {
     "data": {
      "text/latex": [
       "$$(\\frac{1}{3} + \\frac{2 i}{3}) |0\\rangle- \\frac{2}{3} |1\\rangle$$"
      ],
      "text/plain": [
       "<IPython.core.display.Latex object>"
      ]
     },
     "metadata": {},
     "output_type": "display_data"
    }
   ],
   "source": [
    "# simulating measurments\n",
    "display(v.draw('latex'))"
   ]
  },
  {
   "cell_type": "code",
   "execution_count": 18,
   "metadata": {},
   "outputs": [
    {
     "name": "stdout",
     "output_type": "stream",
     "text": [
      "measured: 0\n",
      "Post-measurement state:\n"
     ]
    },
    {
     "data": {
      "text/latex": [
       "$$(\\frac{\\sqrt{5}}{5} + \\frac{2 \\sqrt{5} i}{5}) |0\\rangle$$"
      ],
      "text/plain": [
       "<IPython.core.display.Latex object>"
      ]
     },
     "metadata": {},
     "output_type": "display_data"
    }
   ],
   "source": [
    "# expect different outputs |1> or |0>\n",
    "outcome, state =  v.measure()\n",
    "print(f'measured: {outcome}\\nPost-measurement state:')\n",
    "display(state.draw('latex'))"
   ]
  },
  {
   "cell_type": "code",
   "execution_count": 30,
   "metadata": {},
   "outputs": [
    {
     "data": {
      "image/png": "[encoded data removed]",
      "text/plain": [
       "<Figure size 640x480 with 1 Axes>"
      ]
     },
     "execution_count": 30,
     "metadata": {},
     "output_type": "execute_result"
    }
   ],
   "source": [
    "# shown probability\n",
    "from qiskit.visualization import plot_histogram\n",
    "\n",
    "statistics = v.sample_counts(1000)\n",
    "plot_histogram(statistics)"
   ]
  },
  {
   "cell_type": "code",
   "execution_count": 31,
   "metadata": {},
   "outputs": [
    {
     "data": {
      "text/latex": [
       "$$\n",
       "\n",
       "\\begin{bmatrix}\n",
       "1 & 0  \\\\\n",
       " 0 & \\frac{\\sqrt{2}}{2} + \\frac{\\sqrt{2} i}{2}  \\\\\n",
       " \\end{bmatrix}\n",
       "$$"
      ],
      "text/plain": [
       "<IPython.core.display.Latex object>"
      ]
     },
     "metadata": {},
     "output_type": "display_data"
    }
   ],
   "source": [
    "# operators and statevectors\n",
    "from qiskit.quantum_info import Operator\n",
    "\n",
    "Y = Operator([[0, -1.0j], [1.0j, 0]])\n",
    "H = Operator([[1 / sqrt(2), 1 / sqrt(2)], [1 / sqrt(2), -1 / sqrt(2)]])\n",
    "S = Operator([[1, 0], [0, 1.0j]])\n",
    "T = Operator([[1, 0], [0, (1 + 1.0j) / sqrt(2)]])\n",
    "\n",
    "display(T.draw(\"latex\"))"
   ]
  },
  {
   "cell_type": "code",
   "execution_count": 32,
   "metadata": {},
   "outputs": [
    {
     "data": {
      "text/latex": [
       "$$(0.1464466094 - 0.3535533906 i) |0\\rangle+(-0.3535533906 + 0.8535533906 i) |1\\rangle$$"
      ],
      "text/plain": [
       "<IPython.core.display.Latex object>"
      ]
     },
     "metadata": {},
     "output_type": "display_data"
    }
   ],
   "source": [
    "# apply unitary vector\n",
    "v = Statevector([1, 0])\n",
    "\n",
    "v = v.evolve(H)\n",
    "v = v.evolve(T)\n",
    "v = v.evolve(H)\n",
    "v = v.evolve(S)\n",
    "v = v.evolve(Y)\n",
    "\n",
    "display(v.draw('latex'))"
   ]
  },
  {
   "cell_type": "code",
   "execution_count": 36,
   "metadata": {},
   "outputs": [
    {
     "data": {
      "image/png": "[encoded data removed]",
      "text/plain": [
       "<Figure size 519.897x117.056 with 1 Axes>"
      ]
     },
     "metadata": {},
     "output_type": "display_data"
    }
   ],
   "source": [
    "# quantum circuit look ahead\n",
    "# qc of 5 unitary operations performed on a single qubit\n",
    "from qiskit import QuantumCircuit\n",
    "\n",
    "circuit = QuantumCircuit(1)\n",
    "\n",
    "circuit.h(0)\n",
    "circuit.t(0)\n",
    "circuit.h(0)\n",
    "circuit.s(0)\n",
    "circuit.y(0)\n",
    "\n",
    "display(circuit.draw(output = 'mpl'))"
   ]
  },
  {
   "cell_type": "code",
   "execution_count": 37,
   "metadata": {},
   "outputs": [
    {
     "data": {
      "text/latex": [
       "$$\n",
       "\n",
       "\\begin{bmatrix}\n",
       "0.1464466094 - 0.3535533906 i & 0.8535533906 + 0.3535533906 i  \\\\\n",
       " -0.3535533906 + 0.8535533906 i & 0.3535533906 + 0.1464466094 i  \\\\\n",
       " \\end{bmatrix}\n",
       "$$"
      ],
      "text/plain": [
       "<IPython.core.display.Latex object>"
      ]
     },
     "metadata": {},
     "output_type": "display_data"
    }
   ],
   "source": [
    "# collectiong unitary matrix data from circuit\n",
    "display(Operator.from_circuit(circuit).draw('latex'))"
   ]
  },
  {
   "cell_type": "code",
   "execution_count": 39,
   "metadata": {},
   "outputs": [
    {
     "data": {
      "text/latex": [
       "$$(0.1464466094 - 0.3535533906 i) |0\\rangle+(-0.3535533906 + 0.8535533906 i) |1\\rangle$$"
      ],
      "text/plain": [
       "<IPython.core.display.Latex object>"
      ]
     },
     "metadata": {},
     "output_type": "display_data"
    }
   ],
   "source": [
    "# evolving state mid circuit\n",
    "ket0 = Statevector([1,0])\n",
    "v = ket0.evolve(circuit)\n",
    "display(v.draw('latex'))"
   ]
  },
  {
   "cell_type": "code",
   "execution_count": 41,
   "metadata": {},
   "outputs": [
    {
     "data": {
      "image/png": "[encoded data removed]",
      "text/plain": [
       "<Figure size 640x480 with 1 Axes>"
      ]
     },
     "metadata": {},
     "output_type": "display_data"
    }
   ],
   "source": [
    "# simulation of standard basis measurement n times\n",
    "# fresh state each time\n",
    "n = 4000\n",
    "statistics = v.sample_counts(n)\n",
    "display(plot_histogram(statistics))"
   ]
  },
  {
   "cell_type": "markdown",
   "metadata": {},
   "source": [
    "MULTIPLE SYSTEMS:"
   ]
  },
  {
   "cell_type": "code",
   "execution_count": 43,
   "metadata": {},
   "outputs": [
    {
     "data": {
      "text/latex": [
       "$$ |01\\rangle$$"
      ],
      "text/plain": [
       "<IPython.core.display.Latex object>"
      ]
     },
     "metadata": {},
     "output_type": "display_data"
    }
   ],
   "source": [
    "# statevector tensor method (returns tensor product (cross))\n",
    "zero = Statevector.from_label('0')\n",
    "one = Statevector.from_label('1')\n",
    "psi = zero.tensor(one)\n",
    "display(psi.draw('latex'))"
   ]
  },
  {
   "cell_type": "code",
   "execution_count": 46,
   "metadata": {},
   "outputs": [
    {
     "data": {
      "text/latex": [
       "$$\\frac{\\sqrt{2}}{2} |01\\rangle+\\frac{\\sqrt{2}}{2} |11\\rangle$$"
      ],
      "text/plain": [
       "<IPython.core.display.Latex object>"
      ]
     },
     "metadata": {},
     "output_type": "display_data"
    }
   ],
   "source": [
    "# example tensor of +i -i\n",
    "plus = Statevector.from_label('+')\n",
    "minus_i = Statevector.from_label('1')\n",
    "phi = plus.tensor(minus_i)\n",
    "display(phi.draw('latex'))"
   ]
  },
  {
   "cell_type": "code",
   "execution_count": 47,
   "metadata": {},
   "outputs": [
    {
     "data": {
      "text/latex": [
       "$$\n",
       "\n",
       "\\begin{bmatrix}\n",
       "\\frac{\\sqrt{2}}{2} & 0 & \\frac{\\sqrt{2}}{2} & 0  \\\\\n",
       " 0 & \\frac{\\sqrt{2}}{2} & 0 & \\frac{\\sqrt{2}}{2}  \\\\\n",
       " \\frac{\\sqrt{2}}{2} & 0 & - \\frac{\\sqrt{2}}{2} & 0  \\\\\n",
       " 0 & \\frac{\\sqrt{2}}{2} & 0 & - \\frac{\\sqrt{2}}{2}  \\\\\n",
       " \\end{bmatrix}\n",
       "$$"
      ],
      "text/plain": [
       "<IPython.core.display.Latex object>"
      ]
     },
     "metadata": {},
     "output_type": "display_data"
    },
    {
     "data": {
      "text/latex": [
       "$$\n",
       "\n",
       "\\begin{bmatrix}\n",
       "0 & \\frac{\\sqrt{2}}{2} & 0 & 0 & 0 & \\frac{\\sqrt{2}}{2} & 0 & 0  \\\\\n",
       " \\frac{\\sqrt{2}}{2} & 0 & 0 & 0 & \\frac{\\sqrt{2}}{2} & 0 & 0 & 0  \\\\\n",
       " 0 & 0 & 0 & \\frac{\\sqrt{2}}{2} & 0 & 0 & 0 & \\frac{\\sqrt{2}}{2}  \\\\\n",
       " 0 & 0 & \\frac{\\sqrt{2}}{2} & 0 & 0 & 0 & \\frac{\\sqrt{2}}{2} & 0  \\\\\n",
       " 0 & \\frac{\\sqrt{2}}{2} & 0 & 0 & 0 & - \\frac{\\sqrt{2}}{2} & 0 & 0  \\\\\n",
       " \\frac{\\sqrt{2}}{2} & 0 & 0 & 0 & - \\frac{\\sqrt{2}}{2} & 0 & 0 & 0  \\\\\n",
       " 0 & 0 & 0 & \\frac{\\sqrt{2}}{2} & 0 & 0 & 0 & - \\frac{\\sqrt{2}}{2}  \\\\\n",
       " 0 & 0 & \\frac{\\sqrt{2}}{2} & 0 & 0 & 0 & - \\frac{\\sqrt{2}}{2} & 0  \\\\\n",
       " \\end{bmatrix}\n",
       "$$"
      ],
      "text/plain": [
       "<IPython.core.display.Latex object>"
      ]
     },
     "metadata": {},
     "output_type": "display_data"
    }
   ],
   "source": [
    "# operator also has tensor method\n",
    "H = Operator.from_label(\"H\")\n",
    "I = Operator.from_label(\"I\")\n",
    "X = Operator.from_label(\"X\")\n",
    "display(H.tensor(I).draw(\"latex\"))\n",
    "display(H.tensor(I).tensor(X).draw(\"latex\"))"
   ]
  },
  {
   "cell_type": "code",
   "execution_count": 52,
   "metadata": {},
   "outputs": [
    {
     "data": {
      "text/latex": [
       "$$\\frac{\\sqrt{3}}{3} |001\\rangle+\\frac{\\sqrt{3}}{3} |010\\rangle+\\frac{\\sqrt{3}}{3} |100\\rangle$$"
      ],
      "text/plain": [
       "<IPython.core.display.Latex object>"
      ]
     },
     "metadata": {},
     "output_type": "display_data"
    },
    {
     "name": "stdout",
     "output_type": "stream",
     "text": [
      "Measured: 0\n",
      "State after measurement:\n"
     ]
    },
    {
     "data": {
      "text/latex": [
       "$$\\frac{\\sqrt{2}}{2} |010\\rangle+\\frac{\\sqrt{2}}{2} |100\\rangle$$"
      ],
      "text/plain": [
       "<IPython.core.display.Latex object>"
      ]
     },
     "metadata": {},
     "output_type": "display_data"
    },
    {
     "name": "stdout",
     "output_type": "stream",
     "text": [
      "Measured: 10\n",
      "State after measurement:\n"
     ]
    },
    {
     "data": {
      "text/latex": [
       "$$ |010\\rangle$$"
      ],
      "text/plain": [
       "<IPython.core.display.Latex object>"
      ]
     },
     "metadata": {},
     "output_type": "display_data"
    }
   ],
   "source": [
    "# partial measurments\n",
    "# expect different outputs \n",
    "w = Statevector([0, 1, 1, 0, 1, 0, 0, 0] / sqrt(3))\n",
    "display(w.draw(\"latex\"))\n",
    "\n",
    "result, state = w.measure([0])\n",
    "print(f\"Measured: {result}\\nState after measurement:\")\n",
    "display(state.draw(\"latex\"))\n",
    "\n",
    "result, state = w.measure([0,1])\n",
    "print(f\"Measured: {result}\\nState after measurement:\")\n",
    "display(state.draw(\"latex\"))"
   ]
  },
  {
   "cell_type": "markdown",
   "metadata": {
    "tags": [
     "quantum circuits"
    ]
   },
   "source": [
    "QUANTUM CIRCUITS:"
   ]
  },
  {
   "cell_type": "code",
   "execution_count": 53,
   "metadata": {},
   "outputs": [],
   "source": [
    "from qiskit import QuantumCircuit, QuantumRegister, ClassicalRegister\n",
    "from qiskit.quantum_info import Operator\n",
    "from qiskit_aer import AerSimulator\n",
    "from qiskit.visualization import plot_histogram"
   ]
  },
  {
   "cell_type": "code",
   "execution_count": 54,
   "metadata": {},
   "outputs": [
    {
     "data": {
      "image/png": "[encoded data removed]",
      "text/plain": [
       "<Figure size 436.286x117.056 with 1 Axes>"
      ]
     },
     "metadata": {},
     "output_type": "display_data"
    }
   ],
   "source": [
    "circuit = QuantumCircuit(1)\n",
    "circuit.h(0)\n",
    "circuit.s(0)\n",
    "circuit.h(0)\n",
    "circuit.t(0)\n",
    "\n",
    "display(circuit.draw(output=\"mpl\"))"
   ]
  },
  {
   "cell_type": "code",
   "execution_count": 57,
   "metadata": {},
   "outputs": [
    {
     "data": {
      "image/png": "[encoded data removed]",
      "text/plain": [
       "<Figure size 437.882x117.056 with 1 Axes>"
      ]
     },
     "metadata": {},
     "output_type": "display_data"
    }
   ],
   "source": [
    "X = QuantumRegister(1, \"X\")\n",
    "circuit = QuantumCircuit(X)\n",
    "circuit.h(X)\n",
    "circuit.s(X)\n",
    "circuit.h(X)\n",
    "circuit.t(X)\n",
    "\n",
    "display(circuit.draw(output=\"mpl\"))"
   ]
  },
  {
   "cell_type": "code",
   "execution_count": 58,
   "metadata": {},
   "outputs": [
    {
     "data": {
      "image/png": "[encoded data removed]",
      "text/plain": [
       "<Figure size 270.66x200.667 with 1 Axes>"
      ]
     },
     "metadata": {},
     "output_type": "display_data"
    },
    {
     "data": {
      "text/latex": [
       "$$\n",
       "\n",
       "\\begin{bmatrix}\n",
       "\\frac{\\sqrt{2}}{2} & \\frac{\\sqrt{2}}{2} & 0 & 0  \\\\\n",
       " 0 & 0 & \\frac{\\sqrt{2}}{2} & - \\frac{\\sqrt{2}}{2}  \\\\\n",
       " 0 & 0 & \\frac{\\sqrt{2}}{2} & \\frac{\\sqrt{2}}{2}  \\\\\n",
       " \\frac{\\sqrt{2}}{2} & - \\frac{\\sqrt{2}}{2} & 0 & 0  \\\\\n",
       " \\end{bmatrix}\n",
       "$$"
      ],
      "text/plain": [
       "<IPython.core.display.Latex object>"
      ]
     },
     "metadata": {},
     "output_type": "display_data"
    }
   ],
   "source": [
    "X = QuantumRegister(1, \"X\")\n",
    "Y = QuantumRegister(1, \"Y\")\n",
    "circuit = QuantumCircuit(Y,X)\n",
    "circuit.h(Y)\n",
    "circuit.cx(Y, X)\n",
    "\n",
    "display(circuit.draw(output=\"mpl\"))\n",
    "display(Operator.from_circuit(circuit).draw(\"latex\"))"
   ]
  },
  {
   "cell_type": "code",
   "execution_count": 59,
   "metadata": {},
   "outputs": [
    {
     "data": {
      "image/png": "[encoded data removed]",
      "text/plain": [
       "<Figure size 437.882x367.889 with 1 Axes>"
      ]
     },
     "metadata": {},
     "output_type": "display_data"
    }
   ],
   "source": [
    "# A,B classical bits\n",
    "X = QuantumRegister(1, \"X\")\n",
    "Y = QuantumRegister(1, \"Y\")\n",
    "A = ClassicalRegister(1, \"A\")\n",
    "B = ClassicalRegister(1, \"B\")\n",
    "\n",
    "circuit = QuantumCircuit(Y, X, B, A)\n",
    "circuit.h(Y)\n",
    "circuit.cx(Y, X)\n",
    "circuit.measure(Y, B)\n",
    "circuit.measure(X, A)\n",
    "\n",
    "display(circuit.draw(output=\"mpl\"))"
   ]
  },
  {
   "cell_type": "code",
   "execution_count": 60,
   "metadata": {},
   "outputs": [
    {
     "data": {
      "image/png": "[encoded data removed]",
      "text/plain": [
       "<Figure size 640x480 with 1 Axes>"
      ]
     },
     "metadata": {},
     "output_type": "display_data"
    }
   ],
   "source": [
    "# aer simulation/ measurments\n",
    "result = AerSimulator().run(circuit).result()\n",
    "statistics = result.get_counts()\n",
    "display(plot_histogram(statistics))"
   ]
  },
  {
   "cell_type": "markdown",
   "metadata": {},
   "source": [
    "ENTANGLEMENT IN ACTION:"
   ]
  },
  {
   "cell_type": "code",
   "execution_count": 61,
   "metadata": {},
   "outputs": [],
   "source": [
    "from qiskit import QuantumCircuit, QuantumRegister, ClassicalRegister\n",
    "from qiskit_aer import AerSimulator\n",
    "from qiskit.visualization import plot_histogram, array_to_latex\n",
    "from qiskit.result import marginal_distribution\n",
    "from qiskit.circuit.library import UGate\n",
    "from numpy import pi, random"
   ]
  },
  {
   "cell_type": "code",
   "execution_count": 63,
   "metadata": {},
   "outputs": [
    {
     "data": {
      "image/png": "[encoded data removed]",
      "text/plain": [
       "<Figure size 1193.19x451.5 with 1 Axes>"
      ]
     },
     "metadata": {},
     "output_type": "display_data"
    }
   ],
   "source": [
    "qubit = QuantumRegister(1, 'Q')\n",
    "ebit0 = QuantumRegister(1, 'A')\n",
    "ebit1 = QuantumRegister(1, 'B')\n",
    "a = ClassicalRegister(1, 'a')\n",
    "b = ClassicalRegister(1, 'b')\n",
    "\n",
    "protocol = QuantumCircuit(qubit, ebit0, ebit1, a, b)\n",
    "\n",
    "# prep ebit used for teleportation\n",
    "protocol.h(ebit0)\n",
    "protocol.cx(ebit0, ebit1)\n",
    "protocol.barrier()\n",
    "\n",
    "# alice's operations\n",
    "protocol.cx(qubit, ebit0)\n",
    "protocol.h(qubit)\n",
    "protocol.barrier()\n",
    "\n",
    "# alice measures and sends classical bits to Bob\n",
    "protocol.measure(ebit0, a)\n",
    "protocol.measure(qubit, b)\n",
    "protocol.barrier()\n",
    "\n",
    "# bob uses classical bit to apply gates (conditionally)\n",
    "with protocol.if_test((a, 1)):\n",
    "    protocol.x(ebit1)\n",
    "with protocol.if_test((b, 1)):\n",
    "    protocol.z(ebit1)\n",
    "\n",
    "display(protocol.draw(output='mpl'))"
   ]
  },
  {
   "cell_type": "code",
   "execution_count": 64,
   "metadata": {},
   "outputs": [
    {
     "data": {
      "text/latex": [
       "$$\n",
       "\n",
       "\\begin{bmatrix}\n",
       "-0.96899478 & 0.2209651552 + 0.1105600129 i  \\\\\n",
       " -0.0981660942 + 0.2267433223 i & -0.7421929853 + 0.6229770913 i  \\\\\n",
       " \\end{bmatrix}\n",
       "$$"
      ],
      "text/plain": [
       "<IPython.core.display.Latex object>"
      ]
     },
     "metadata": {},
     "output_type": "display_data"
    }
   ],
   "source": [
    "# randomly choose unitary qubit gate\n",
    "random_gate = UGate(\n",
    "    theta=random.random() * 2 * pi,\n",
    "    phi=random.random() * 2 * pi,\n",
    "    lam=random.random() * 2 * pi\n",
    ")\n",
    "\n",
    "display(array_to_latex(random_gate.to_matrix()))"
   ]
  },
  {
   "cell_type": "code",
   "execution_count": 66,
   "metadata": {},
   "outputs": [
    {
     "data": {
      "image/png": "[encoded data removed]",
      "text/plain": [
       "<Figure size 1929.98x535.111 with 1 Axes>"
      ]
     },
     "metadata": {},
     "output_type": "display_data"
    }
   ],
   "source": [
    "# creating a new circuit with same bits and qubits \n",
    "# used in teleportation protocol\n",
    "\n",
    "test = QuantumCircuit(qubit, ebit0, ebit1, a, b)\n",
    "\n",
    "# start with random gate on Q\n",
    "test.append(random_gate, qubit)\n",
    "test.barrier()\n",
    "\n",
    "# append whole teleportation protocol from above\n",
    "test = test.compose(protocol)\n",
    "test.barrier()\n",
    "\n",
    "# apply inverse of random unitary to B and measure\n",
    "test.append(random_gate.inverse(), ebit1)\n",
    "result = ClassicalRegister(1, 'Result')\n",
    "test.add_register(result)\n",
    "test.measure(ebit1, result)\n",
    "\n",
    "display(test.draw(output='mpl'))"
   ]
  },
  {
   "cell_type": "code",
   "execution_count": 67,
   "metadata": {},
   "outputs": [
    {
     "data": {
      "image/png": "[encoded data removed]",
      "text/plain": [
       "<Figure size 640x480 with 1 Axes>"
      ]
     },
     "metadata": {},
     "output_type": "display_data"
    }
   ],
   "source": [
    "# aer simulation\n",
    "# to observe stats for all 3 classical bits\n",
    "\n",
    "result = AerSimulator().run(test).result()\n",
    "statistics = result.get_counts()\n",
    "display(plot_histogram(statistics))"
   ]
  },
  {
   "cell_type": "markdown",
   "metadata": {},
   "source": [
    "SUPERDENSE CODING"
   ]
  },
  {
   "cell_type": "code",
   "execution_count": null,
   "metadata": {},
   "outputs": [],
   "source": []
  }
 ],
 "metadata": {
  "kernelspec": {
   "display_name": "Python 3",
   "language": "python",
   "name": "python3"
  },
  "language_info": {
   "codemirror_mode": {
    "name": "ipython",
    "version": 3
   },
   "file_extension": ".py",
   "mimetype": "text/x-python",
   "name": "python",
   "nbconvert_exporter": "python",
   "pygments_lexer": "ipython3",
   "version": "3.13.1"
  }
 },
 "nbformat": 4,
 "nbformat_minor": 2
}
