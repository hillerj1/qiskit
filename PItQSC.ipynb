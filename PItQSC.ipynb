{
 "cells": [
  {
   "cell_type": "markdown",
   "metadata": {},
   "source": [
    "PRACTICAL INTRODUCTION TO QUANTUM-SAFE CRYPTOGRAPHY"
   ]
  },
  {
   "cell_type": "markdown",
   "metadata": {},
   "source": [
    "CRYPTOGRAPHIC HASH FUNCTIONS:"
   ]
  },
  {
   "cell_type": "code",
   "execution_count": 1,
   "metadata": {},
   "outputs": [
    {
     "name": "stdout",
     "output_type": "stream",
     "text": [
      "the two messages differ by 1 characters\n"
     ]
    }
   ],
   "source": [
    "from cryptography.hazmat.backends import default_backend\n",
    "from cryptography.hazmat.primitives import hashes\n",
    "\n",
    "def char_diff(str1, str2):\n",
    "    return sum(str1[i] != str2[i] for i in range(len(str1)))\n",
    "\n",
    "message_1 = b\"Buy 10000 shares of WXYZ stock now!\"\n",
    "message_2 = b\"Buy 10000 shares of VXYZ stock now!\"\n",
    "\n",
    "print(f'the two messages differ by {char_diff(message_1, message_2)} characters')"
   ]
  },
  {
   "cell_type": "code",
   "execution_count": 2,
   "metadata": {},
   "outputs": [
    {
     "name": "stdout",
     "output_type": "stream",
     "text": [
      "digest-1: 6e0e6261b7131bd80ffdb2a4d42f9d042636350e45e184b92fcbcc9646eaf1e7\n",
      "digest-2: 6b0abb368c3a1730f935b68105e3f3ae7fd43d7e786d3ed3503dbb45c74ada46\n",
      "The two digests differ by 57 characters\n"
     ]
    }
   ],
   "source": [
    "# Create new SHA-256 hash objects, one for each message\n",
    "chf_1 = hashes.Hash(hashes.SHA256(), backend=default_backend())\n",
    "chf_2 = hashes.Hash(hashes.SHA256(), backend=default_backend())\n",
    "\n",
    "# Update each hash object with the bytes of the corresponding message\n",
    "chf_1.update(message_1)\n",
    "chf_2.update(message_2)\n",
    "\n",
    "# Finalize the hash process and obtain the digests\n",
    "digest_1 = chf_1.finalize()\n",
    "digest_2 = chf_2.finalize()\n",
    "\n",
    "#Convert the resulting hash to hexadecimal strings for convenient printing\n",
    "digest_1_str = digest_1.hex()\n",
    "digest_2_str = digest_2.hex()\n",
    "\n",
    "#Print out the digests as strings \n",
    "print(f\"digest-1: {digest_1_str}\")\n",
    "print(f\"digest-2: {digest_2_str}\")\n",
    "\n",
    "print(f\"The two digests differ by { char_diff(digest_1_str, digest_2_str)} characters\")"
   ]
  },
  {
   "cell_type": "code",
   "execution_count": 3,
   "metadata": {},
   "outputs": [],
   "source": [
    "# applications:\n",
    "# data integrity checks\n",
    "# digital signatures\n",
    "# blockchain and cryptocurrencies "
   ]
  },
  {
   "cell_type": "markdown",
   "metadata": {},
   "source": [
    "symmetric key cryptography:"
   ]
  },
  {
   "cell_type": "code",
   "execution_count": 1,
   "metadata": {},
   "outputs": [
    {
     "name": "stdout",
     "output_type": "stream",
     "text": [
      "Requirement already satisfied: secretpy in /Library/Frameworks/Python.framework/Versions/3.13/lib/python3.13/site-packages (0.12.0)\n",
      "Note: you may need to restart the kernel to use updated packages.\n",
      "\n",
      "Given plaintext: this is a strict top secret message for intended recipients only\n"
     ]
    }
   ],
   "source": [
    "# Install the library if needed\n",
    "%pip install secretpy\n",
    "\n",
    "# import the required crypto functions which will be demonstrated later\n",
    "from secretpy import Caesar\n",
    "from cryptography.hazmat.primitives.ciphers import Cipher, algorithms, modes\n",
    "from functools import reduce\n",
    "import numpy as np\n",
    "\n",
    "# Set the plaintext we want to encrypt\n",
    "plaintext=u\"this is a strict top secret message for intended recipients only\"\n",
    "print(f\"\\nGiven plaintext: {plaintext}\")"
   ]
  },
  {
   "cell_type": "code",
   "execution_count": 2,
   "metadata": {},
   "outputs": [
    {
     "name": "stdout",
     "output_type": "stream",
     "text": [
      "Caesar shift secret key: 5\n",
      "alphabet: ('a', 'b', 'c', 'd', 'e', 'f', 'g', 'h', 'i', 'j', 'k', 'l', 'm', 'n', 'o', 'p', 'q', 'r', 's', 't', 'u', 'v', 'w', 'x', 'y', 'z', ' ')\n"
     ]
    }
   ],
   "source": [
    "# initialize the required python object for doing Caesar shift encryption\n",
    "caesar_cipher = Caesar()\n",
    "\n",
    "# Define the shift, ie the key\n",
    "caesar_key = 5 \n",
    "print(f\"Caesar shift secret key: {caesar_key}\")\n",
    "\n",
    "# Define the alphabet\n",
    "alphabet=('a', 'b', 'c', 'd', 'e', 'f', 'g', 'h', 'i', 'j', 'k', 'l', 'm', 'n', 'o', 'p', 'q', 'r', 's', 't', 'u', 'v', 'w', 'x', 'y', 'z', ' ')\n",
    "print(f\"alphabet: {alphabet}\")"
   ]
  },
  {
   "cell_type": "code",
   "execution_count": 10,
   "metadata": {},
   "outputs": [
    {
     "name": "stdout",
     "output_type": "stream",
     "text": [
      "n=8,q=127,N=42,sigma=1.0\n"
     ]
    }
   ],
   "source": [
    "# quantum applications\n",
    "import numpy as np\n",
    "from matplotlib import pyplot as plt\n",
    "n=8\n",
    "q=127\n",
    "N=int(1.1*n*np.log(q))\n",
    "sigma=1.0\n",
    "print(f\"n={n},q={q},N={N},sigma={sigma}\")"
   ]
  },
  {
   "cell_type": "code",
   "execution_count": 11,
   "metadata": {},
   "outputs": [
    {
     "name": "stdout",
     "output_type": "stream",
     "text": [
      "chi =  995\n",
      "chi =  998\n",
      "chi =  1\n",
      "chi =  6\n",
      "chi =  2\n",
      "chi =  997\n",
      "chi =  999\n",
      "chi =  996\n",
      "chi =  3\n",
      "chi =  995\n"
     ]
    }
   ],
   "source": [
    "def chi(stdev, modulus):\n",
    "    return round((np.random.randn() * stdev**2))%modulus\n",
    "\n",
    "# print some examples\n",
    "sd=2\n",
    "m=1000\n",
    "for x in range(10):\n",
    "  print(\"chi = \",chi(sd,m))"
   ]
  },
  {
   "cell_type": "code",
   "execution_count": 12,
   "metadata": {},
   "outputs": [
    {
     "name": "stdout",
     "output_type": "stream",
     "text": [
      "Alice's private key: [105  17  42   1  94  62  96  82]\n"
     ]
    }
   ],
   "source": [
    "#Alice's private key\n",
    "alice_private_key = np.random.randint(0, high=q, size=n)\n",
    "print(f\"Alice's private key: {alice_private_key}\")"
   ]
  },
  {
   "cell_type": "code",
   "execution_count": 13,
   "metadata": {},
   "outputs": [
    {
     "name": "stdout",
     "output_type": "stream",
     "text": [
      "Alice's public key: [(array([ 20,  35,  15, 114,   0, 124,  32,  92]), np.int64(25)), (array([ 26, 126,  63, 114,  62,   5,  24,  33]), np.int64(111)), (array([ 96,  84,   9, 105,  78, 108,  86,   9]), np.int64(87)), (array([ 48,  68,  15,  20,  47, 104,  34, 101]), np.int64(47)), (array([ 24,  37,  19, 120,  40,  43,  58, 112]), np.int64(98)), (array([ 57,  29,  87,  65, 101,  18,  29,   6]), np.int64(79)), (array([ 70,  39,  63,  63, 108,  46, 102,  75]), np.int64(43)), (array([ 95,  84,  97,  15,  35, 109,  77,   8]), np.int64(60)), (array([43, 99, 13, 44, 69, 85, 88, 95]), np.int64(111)), (array([ 40,  69,  25, 109,  66,  81,  27,  50]), np.int64(68)), (array([103,  37,  14,  61,   0,   6,  34,  79]), np.int64(110)), (array([ 79,  96,  43,  86,  81,  55, 121,  70]), np.int64(67)), (array([  3, 123,  34,  57, 112,  84,  19, 105]), np.int64(89)), (array([ 77, 115,  66, 120,  43, 119,  36, 118]), np.int64(19)), (array([ 35,  41,  50, 116,  46,   4,  44,  39]), np.int64(41)), (array([103,  37,  77,  48,  34,  62,   8,  85]), np.int64(42)), (array([119, 115,  93,  80,  46,  99,  51, 104]), np.int64(30)), (array([  8,  30,  58, 103,  47, 106, 125,  61]), np.int64(6)), (array([108,  59,  95,  10,  63,  67,  67,  90]), np.int64(99)), (array([ 48,  31,  80,  30,  81, 124,  93,  25]), np.int64(58)), (array([23, 21, 70,  3,  8, 81, 97, 38]), np.int64(41)), (array([ 66,   0, 102,  36, 118,  88,  36,  66]), np.int64(89)), (array([ 91, 120,  23,  14,  92,  32,  85,  11]), np.int64(10)), (array([ 80,  42,  44, 103,  54,  61,  93,  53]), np.int64(50)), (array([ 68, 113,   3,  30,  87,  39,  36, 101]), np.int64(56)), (array([112, 125,  71,  27,  69, 105,  71,  27]), np.int64(57)), (array([72, 36, 56, 28, 43, 25, 92, 63]), np.int64(44)), (array([ 41, 116,  50, 119,  94,  89,  43, 126]), np.int64(99)), (array([ 63,  91,  37,  33,  32, 111, 122,   0]), np.int64(108)), (array([120,  27, 118,  62,  44, 114, 110,  99]), np.int64(79)), (array([77, 91, 56, 27,  1, 77, 91, 62]), np.int64(93)), (array([ 53, 112,  45, 111, 122,  92, 126,  90]), np.int64(18)), (array([ 44,  63,  85, 100,   6,  57,  42,  97]), np.int64(46)), (array([ 52,  99,  23,  77, 119, 108,  98,  73]), np.int64(59)), (array([ 33,  63,  97,  51, 105,  54,  13, 120]), np.int64(74)), (array([ 73, 116,  99,  16,  21, 103,  85,  93]), np.int64(110)), (array([88, 38, 91, 49, 97, 77, 25, 38]), np.int64(18)), (array([78, 86, 70, 51, 52, 63, 80, 21]), np.int64(105)), (array([55,  9, 43, 21, 96, 83, 17, 41]), np.int64(122)), (array([ 27,  73,  26,  75,  38, 121,  15,  39]), np.int64(0)), (array([43, 48, 52, 14,  1, 34, 52, 26]), np.int64(91)), (array([ 23,  78, 118, 111, 116,  28,  97,  10]), np.int64(83))]\n"
     ]
    }
   ],
   "source": [
    "#Alice's Public Key\n",
    "alice_public_key = []\n",
    "\n",
    "# N is the number of values we want in the key\n",
    "for i in range(N):\n",
    "    # Get n random values between 0 and <q\n",
    "    a = np.random.randint(0, high=q, size=n)\n",
    "    # get an error to introduce\n",
    "    epsilon = chi(sigma, q)\n",
    "    #  calculate dot product (ie like array multiplication)\n",
    "    b = (np.dot(a, alice_private_key) + epsilon) % q\n",
    "    # value to be added to the key -\n",
    "    sample = (a, b)\n",
    "    alice_public_key.append(sample)\n",
    "    \n",
    "print(f\"Alice's public key: {alice_public_key}\")"
   ]
  },
  {
   "cell_type": "code",
   "execution_count": 14,
   "metadata": {},
   "outputs": [
    {
     "name": "stdout",
     "output_type": "stream",
     "text": [
      "Bob's message bit=1\n"
     ]
    }
   ],
   "source": [
    "#Encryption\n",
    "bob_message_bit = 1\n",
    "print(f\"Bob's message bit={bob_message_bit}\")"
   ]
  },
  {
   "cell_type": "code",
   "execution_count": 15,
   "metadata": {},
   "outputs": [
    {
     "name": "stdout",
     "output_type": "stream",
     "text": [
      "[1 0 1 0 1 0 1 0 1 1 1 0 1 1 1 1 1 0 0 1 0 1 0 1 0 0 0 1 0 1 0 1 0 1 0 0 1\n",
      " 1 0 1 0 0]\n"
     ]
    }
   ],
   "source": [
    "# a list of N values between 0 and <2 - ie 0 or 1\n",
    "r = np.random.randint(0, 2, N)\n",
    "print(r)"
   ]
  },
  {
   "cell_type": "code",
   "execution_count": 16,
   "metadata": {},
   "outputs": [
    {
     "name": "stdout",
     "output_type": "stream",
     "text": [
      "ciphertext is: ([np.int64(116), np.int64(58), np.int64(111), np.int64(99), np.int64(64), np.int64(20), np.int64(34), np.int64(69)], np.int64(4))\n"
     ]
    }
   ],
   "source": [
    "sum_ai=np.zeros(n, dtype=int)\n",
    "sum_bi=0\n",
    "\n",
    "for i in range(N):\n",
    "    sum_ai = sum_ai + r[i] * alice_public_key[i][0]\n",
    "    sum_bi = sum_bi + r[i] * alice_public_key[i][1]\n",
    "sum_ai = [ x % q for x in sum_ai ]\n",
    "# sum_bi = sum_bi \n",
    "ciphertext = (sum_ai, (bob_message_bit*int(np.floor(q/2))+sum_bi)%q)\n",
    "print(f\"ciphertext is: {ciphertext}\")"
   ]
  },
  {
   "cell_type": "code",
   "execution_count": 17,
   "metadata": {},
   "outputs": [
    {
     "name": "stdout",
     "output_type": "stream",
     "text": [
      "original message bit=1, decrypted message bit=1\n"
     ]
    }
   ],
   "source": [
    "#Decryption\n",
    "adots = np.dot(ciphertext[0], alice_private_key) % q\n",
    "b_adots = (ciphertext[1] - adots) % q\n",
    "\n",
    "decrypted_message_bit = round((2*b_adots)/q) % 2\n",
    "\n",
    "print(f\"original message bit={bob_message_bit}, decrypted message bit={decrypted_message_bit}\")\n",
    "\n",
    "assert bob_message_bit == decrypted_message_bit"
   ]
  },
  {
   "cell_type": "code",
   "execution_count": 18,
   "metadata": {},
   "outputs": [
    {
     "name": "stdout",
     "output_type": "stream",
     "text": [
      "Bob's message bits are : [1 1 0 1 0 0 0 0 0 0 0 1 0 1 1 0]\n",
      "Decrypted message bits = [1 1 0 1 0 0 0 0 0 0 0 1 0 1 1 0]\n"
     ]
    }
   ],
   "source": [
    "bob_message_bits = np.random.randint(0, 2, 16)\n",
    "print(f\"Bob's message bits are : {bob_message_bits}\")\n",
    "decrypted_bits = []\n",
    "\n",
    "for ib in range(len(bob_message_bits)):\n",
    "    bob_message_bit = bob_message_bits[ib]\n",
    "\n",
    "    r = np.random.randint(0, 2, N)\n",
    "    \n",
    "    sum_ai=np.zeros(n, dtype=int)\n",
    "    sum_bi=0\n",
    "    for i in range(N):\n",
    "        sum_ai = sum_ai + r[i] * alice_public_key[i][0]\n",
    "        sum_bi = sum_bi + r[i] * alice_public_key[i][1]\n",
    "    sum_ai = [ x % q for x in sum_ai ]\n",
    "\n",
    "    ciphertext = (sum_ai, (bob_message_bit*int(np.floor(q/2))+sum_bi)%q)\n",
    "\n",
    "    adots = np.dot(ciphertext[0], alice_private_key) % q\n",
    "    b_adots = (ciphertext[1] - adots) % q\n",
    "\n",
    "    decrypted_message_bit = round((2*b_adots)/q) % 2\n",
    "    assert decrypted_message_bit == bob_message_bit\n",
    "\n",
    "    decrypted_bits.append(decrypted_message_bit)\n",
    "    \n",
    "print(f\"Decrypted message bits = {np.array(decrypted_bits)}\")"
   ]
  },
  {
   "cell_type": "code",
   "execution_count": null,
   "metadata": {},
   "outputs": [],
   "source": []
  }
 ],
 "metadata": {
  "kernelspec": {
   "display_name": "Python 3",
   "language": "python",
   "name": "python3"
  },
  "language_info": {
   "codemirror_mode": {
    "name": "ipython",
    "version": 3
   },
   "file_extension": ".py",
   "mimetype": "text/x-python",
   "name": "python",
   "nbconvert_exporter": "python",
   "pygments_lexer": "ipython3",
   "version": "3.13.1"
  }
 },
 "nbformat": 4,
 "nbformat_minor": 2
}
